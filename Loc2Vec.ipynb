{
 "cells": [
  {
   "cell_type": "code",
   "execution_count": null,
   "id": "0",
   "metadata": {},
   "outputs": [],
   "source": [
    "import random\n",
    "\n",
    "import torch\n",
    "import torchvision.transforms as T\n",
    "from torch.utils.data import DataLoader\n",
    "\n",
    "from loc2vec.dataset import TilesDataset\n",
    "from loc2vec.model import Loc2VecModel, SoftmaxTripletLoss\n",
    "from loc2vec.train import train\n",
    "\n",
    "%load_ext autoreload\n",
    "%autoreload 2"
   ]
  },
  {
   "cell_type": "code",
   "execution_count": null,
   "id": "1",
   "metadata": {},
   "outputs": [],
   "source": [
    "device = torch.device(\"mps\" if torch.backends.mps.is_available() else \"cpu\")\n",
    "model = Loc2VecModel(input_channels=3, embedding_dim=16, dropout_rate=0.5)\n",
    "optimizer = torch.optim.Adam(model.parameters(), lr=0.0001)\n",
    "loss_fn = SoftmaxTripletLoss()\n",
    "dataset = TilesDataset(\n",
    "    \"full\",\n",
    "    pos_radius=1,\n",
    "    transform=T.Compose(\n",
    "        [\n",
    "            T.Resize((128, 128)),\n",
    "            T.ToTensor(),\n",
    "            T.Normalize([0.8107, 0.8611, 0.7814], [0.1215, 0.0828, 0.1320]),\n",
    "        ]\n",
    "    ),\n",
    ")\n",
    "train_loader = DataLoader(\n",
    "    dataset,\n",
    "    batch_size=32,\n",
    "    shuffle=True,\n",
    "    num_workers=4,\n",
    "    prefetch_factor=10,\n",
    "    persistent_workers=True,\n",
    ")\n",
    "\n",
    "sample = random.choice(dataset)\n",
    "\n",
    "print(f\"Input shape: {sample['anchor_image'].shape}\")\n",
    "print(f\"Training on device: {device}\")\n",
    "\n",
    "model.to(device)\n",
    "\n",
    "for epoch in range(5):\n",
    "    avg_loss = train(model, train_loader, optimizer, loss_fn, device=device)\n",
    "    print(f\"Epoch {epoch + 1}, Average Loss: {avg_loss:.4f}\")\n",
    "\n",
    "torch.save(model.state_dict(), \"model.pth\")"
   ]
  },
  {
   "cell_type": "code",
   "execution_count": null,
   "id": "2",
   "metadata": {},
   "outputs": [],
   "source": [
    "from loc2vec.embeddings import log_embeddings_to_tensorboard\n",
    "\n",
    "log_embeddings_to_tensorboard(\n",
    "    model, train_loader, device=device, log_dir=\"logs/embeddings\", max_samples=1000\n",
    ")"
   ]
  }
 ],
 "metadata": {
  "kernelspec": {
   "display_name": ".venv",
   "language": "python",
   "name": "python3"
  },
  "language_info": {
   "codemirror_mode": {
    "name": "ipython",
    "version": 3
   },
   "file_extension": ".py",
   "mimetype": "text/x-python",
   "name": "python",
   "nbconvert_exporter": "python",
   "pygments_lexer": "ipython3",
   "version": "3.12.3"
  }
 },
 "nbformat": 4,
 "nbformat_minor": 5
}

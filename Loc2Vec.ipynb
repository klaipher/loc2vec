{
 "cells": [
  {
   "cell_type": "code",
   "id": "79db888474507003",
   "metadata": {
    "ExecuteTime": {
     "end_time": "2025-06-09T19:05:22.182728Z",
     "start_time": "2025-06-09T19:05:22.074859Z"
    }
   },
   "source": [
    "import random\n",
    "\n",
    "import torch\n",
    "import torchvision.transforms as T\n",
    "from torch.utils.data import DataLoader\n",
    "\n",
    "from loc2vec.dataset import TilesDataset\n",
    "from loc2vec.model import Loc2VecModel, SoftmaxTripletLoss, Loc2VecTripletLoss\n",
    "from loc2vec.train import train\n",
    "\n",
    "%load_ext autoreload\n",
    "%autoreload 2"
   ],
   "outputs": [],
   "execution_count": 2
  },
  {
   "cell_type": "code",
   "id": "768d922dd2aaee66",
   "metadata": {
    "ExecuteTime": {
     "end_time": "2025-06-09T19:08:27.655513Z",
     "start_time": "2025-06-09T19:05:58.212636Z"
    }
   },
   "source": [
    "device = torch.device(\"mps\" if torch.backends.mps.is_available() else \"cpu\")\n",
    "model = Loc2VecModel(input_channels=3, embedding_dim=16, dropout_rate=0.5)\n",
    "optimizer = torch.optim.Adam(model.parameters(), lr=0.0001)\n",
    "loss_fn = Loc2VecTripletLoss()\n",
    "dataset = TilesDataset(\"full\", pos_radius=1, transform=T.Compose([\n",
    "    T.Resize((128, 128)),\n",
    "    T.ToTensor(),\n",
    "    T.Normalize([0.8107, 0.8611, 0.7814],\n",
    "                [0.1215, 0.0828, 0.1320])\n",
    "]))\n",
    "train_loader = DataLoader(dataset, batch_size=32, shuffle=True, num_workers=4, prefetch_factor=10,\n",
    "                          persistent_workers=True)\n",
    "\n",
    "sample = random.choice(dataset)\n",
    "\n",
    "print(f\"Input shape: {sample['anchor_image'].shape}\")\n",
    "print(f\"Training on device: {device}\")\n",
    "\n",
    "model.to(device)\n",
    "\n",
    "for epoch in range(5):\n",
    "    avg_loss = train(model, train_loader, optimizer, loss_fn, device=device)\n",
    "    print(f\"Epoch {epoch + 1}, Average Loss: {avg_loss:.4f}\")"
   ],
   "outputs": [
    {
     "name": "stdout",
     "output_type": "stream",
     "text": [
      "Input shape: torch.Size([3, 128, 128])\n",
      "Training on device: mps\n"
     ]
    },
    {
     "name": "stderr",
     "output_type": "stream",
     "text": [
      "Training: 100%|██████████| 515/515 [00:35<00:00, 14.47it/s]\n"
     ]
    },
    {
     "name": "stdout",
     "output_type": "stream",
     "text": [
      "Epoch 1, Average Loss: 0.4013\n"
     ]
    },
    {
     "name": "stderr",
     "output_type": "stream",
     "text": [
      "Training: 100%|██████████| 515/515 [00:28<00:00, 18.33it/s]\n"
     ]
    },
    {
     "name": "stdout",
     "output_type": "stream",
     "text": [
      "Epoch 2, Average Loss: 0.3276\n"
     ]
    },
    {
     "name": "stderr",
     "output_type": "stream",
     "text": [
      "Training: 100%|██████████| 515/515 [00:28<00:00, 18.31it/s]\n"
     ]
    },
    {
     "name": "stdout",
     "output_type": "stream",
     "text": [
      "Epoch 3, Average Loss: 0.3126\n"
     ]
    },
    {
     "name": "stderr",
     "output_type": "stream",
     "text": [
      "Training: 100%|██████████| 515/515 [00:28<00:00, 18.36it/s]\n"
     ]
    },
    {
     "name": "stdout",
     "output_type": "stream",
     "text": [
      "Epoch 4, Average Loss: 0.2980\n"
     ]
    },
    {
     "name": "stderr",
     "output_type": "stream",
     "text": [
      "Training: 100%|██████████| 515/515 [00:29<00:00, 17.52it/s]"
     ]
    },
    {
     "name": "stdout",
     "output_type": "stream",
     "text": [
      "Epoch 5, Average Loss: 0.2888\n"
     ]
    },
    {
     "name": "stderr",
     "output_type": "stream",
     "text": [
      "\n"
     ]
    }
   ],
   "execution_count": 4
  },
  {
   "cell_type": "code",
   "id": "619db930b7f9a122",
   "metadata": {
    "ExecuteTime": {
     "end_time": "2025-06-09T19:08:35.875383Z",
     "start_time": "2025-06-09T19:08:32.745015Z"
    }
   },
   "source": [
    "from loc2vec.embeddings import log_embeddings_to_tensorboard\n",
    "\n",
    "log_embeddings_to_tensorboard(model, train_loader, device=device, log_dir=\"logs/embeddings\", max_samples=1000)"
   ],
   "outputs": [
    {
     "name": "stdout",
     "output_type": "stream",
     "text": [
      "Embeddings logged to TensorBoard. View with: tensorboard --logdir=logs/embeddings\n",
      "Total samples: 1000\n"
     ]
    }
   ],
   "execution_count": 5
  }
 ],
 "metadata": {
  "kernelspec": {
   "display_name": ".venv",
   "language": "python",
   "name": "python3"
  },
  "language_info": {
   "codemirror_mode": {
    "name": "ipython",
    "version": 3
   },
   "file_extension": ".py",
   "mimetype": "text/x-python",
   "name": "python",
   "nbconvert_exporter": "python",
   "pygments_lexer": "ipython3",
   "version": "3.12.3"
  }
 },
 "nbformat": 4,
 "nbformat_minor": 5
}
